{
 "cells": [
  {
   "cell_type": "markdown",
   "metadata": {},
   "source": [
    "# Script de Demonstração de MapReduce em Python\n",
    "**Autor:** Edson Lourenço\n",
    "**Canal do YouTube:** [Desvendando Codigo](https://www.youtube.com/@Desvendando_Codigo/)\n",
    "\n",
    "![algorito map reduce](../../drawio/map-reduce.drawio.svg)"
   ]
  },
  {
   "cell_type": "code",
   "execution_count": 12,
   "metadata": {},
   "outputs": [],
   "source": [
    "from collections import defaultdict"
   ]
  },
  {
   "cell_type": "code",
   "execution_count": 13,
   "metadata": {},
   "outputs": [],
   "source": [
    "text = \"cachorro, gato, rato, carro, carro, rato, cachorro, carro, gato\"   "
   ]
  },
  {
   "cell_type": "code",
   "execution_count": 14,
   "metadata": {},
   "outputs": [],
   "source": [
    "def map_reduce(input_text):\n",
    "    # Fase de Mapping\n",
    "    words = [word.strip(\",\") for word in input_text.lower().split()]\n",
    "    word_counts = defaultdict(int)\n",
    "\n",
    "    for word in words:\n",
    "        word_counts[word] += 1\n",
    "\n",
    "    # Fase de Shuffling (não necessário neste exemplo)\n",
    "\n",
    "    # Fase de Reducing\n",
    "    result = {}\n",
    "    for word, count in word_counts.items():\n",
    "        result[word] = count\n",
    "\n",
    "    return result"
   ]
  },
  {
   "cell_type": "code",
   "execution_count": 19,
   "metadata": {},
   "outputs": [],
   "source": [
    "def main():\n",
    "    # Fase de Imputação\n",
    "    input_text = text #input(\"Digite um texto para a contagem de palavras: \")\n",
    "\n",
    "    # Fase de Splitting (não necessário neste exemplo)\n",
    "\n",
    "    # Executar MapReduce\n",
    "    result = map_reduce(input_text)\n",
    "\n",
    "    # Exibir resultado final\n",
    "    print(\"\\nResultado: \\n\")\n",
    "    for word, count in result.items():\n",
    "        print(f\"{word}: {count}\")"
   ]
  },
  {
   "cell_type": "code",
   "execution_count": 20,
   "metadata": {},
   "outputs": [
    {
     "name": "stdout",
     "output_type": "stream",
     "text": [
      "\n",
      "Resultado: \n",
      "\n",
      "cachorro: 2\n",
      "gato: 2\n",
      "rato: 2\n",
      "carro: 3\n"
     ]
    }
   ],
   "source": [
    "main()"
   ]
  },
  {
   "cell_type": "code",
   "execution_count": null,
   "metadata": {},
   "outputs": [],
   "source": []
  }
 ],
 "metadata": {
  "kernelspec": {
   "display_name": "dataeng",
   "language": "python",
   "name": "python3"
  },
  "language_info": {
   "codemirror_mode": {
    "name": "ipython",
    "version": 3
   },
   "file_extension": ".py",
   "mimetype": "text/x-python",
   "name": "python",
   "nbconvert_exporter": "python",
   "pygments_lexer": "ipython3",
   "version": "3.12.0"
  }
 },
 "nbformat": 4,
 "nbformat_minor": 2
}
